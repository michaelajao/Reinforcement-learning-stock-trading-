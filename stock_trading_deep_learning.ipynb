{
  "nbformat": 4,
  "nbformat_minor": 0,
  "metadata": {
    "colab": {
      "name": "stock trading deep learning.ipynb",
      "provenance": [],
      "toc_visible": true,
      "mount_file_id": "16u-AEgv0BFynHTcTAv-WaSnphe8Dqnuf",
      "authorship_tag": "ABX9TyOhd7HDltP9mQLC7slQFMIP",
      "include_colab_link": true
    },
    "kernelspec": {
      "name": "python3",
      "display_name": "Python 3"
    },
    "accelerator": "GPU"
  },
  "cells": [
    {
      "cell_type": "markdown",
      "metadata": {
        "id": "view-in-github",
        "colab_type": "text"
      },
      "source": [
        "<a href=\"https://colab.research.google.com/github/michaelajao/Reinforcement-learning-stock-trading-/blob/master/stock_trading_deep_learning.ipynb\" target=\"_parent\"><img src=\"https://colab.research.google.com/assets/colab-badge.svg\" alt=\"Open In Colab\"/></a>"
      ]
    },
    {
      "cell_type": "code",
      "metadata": {
        "id": "z-LAUOHeqvz1",
        "colab_type": "code",
        "colab": {
          "base_uri": "https://localhost:8080/",
          "height": 272
        },
        "outputId": "5bf9bee4-fc95-4013-9ae8-b8aa537e2b46"
      },
      "source": [
        "pip install duka"
      ],
      "execution_count": null,
      "outputs": [
        {
          "output_type": "stream",
          "text": [
            "Collecting duka\n",
            "  Downloading https://files.pythonhosted.org/packages/41/2b/55dc564aa2c8bbe680638756f57f58a6ed2a75bebb4b2f8cd601b6cad0b4/duka-0.2.0.tar.gz\n",
            "Requirement already satisfied: requests>=2.9.1 in /usr/local/lib/python3.6/dist-packages (from duka) (2.23.0)\n",
            "Requirement already satisfied: chardet<4,>=3.0.2 in /usr/local/lib/python3.6/dist-packages (from requests>=2.9.1->duka) (3.0.4)\n",
            "Requirement already satisfied: idna<3,>=2.5 in /usr/local/lib/python3.6/dist-packages (from requests>=2.9.1->duka) (2.10)\n",
            "Requirement already satisfied: urllib3!=1.25.0,!=1.25.1,<1.26,>=1.21.1 in /usr/local/lib/python3.6/dist-packages (from requests>=2.9.1->duka) (1.24.3)\n",
            "Requirement already satisfied: certifi>=2017.4.17 in /usr/local/lib/python3.6/dist-packages (from requests>=2.9.1->duka) (2020.6.20)\n",
            "Building wheels for collected packages: duka\n",
            "  Building wheel for duka (setup.py) ... \u001b[?25l\u001b[?25hdone\n",
            "  Created wheel for duka: filename=duka-0.2.0-cp36-none-any.whl size=10720 sha256=2c1cacf2bbeb1c8eaf4a0a54f0b370347e3711f5c4b9b9951ea895bf4d75104b\n",
            "  Stored in directory: /root/.cache/pip/wheels/5b/09/39/a810b7e2e8cca6011a104cfe28d798d21ccc6b520874634c12\n",
            "Successfully built duka\n",
            "Installing collected packages: duka\n",
            "Successfully installed duka-0.2.0\n"
          ],
          "name": "stdout"
        }
      ]
    },
    {
      "cell_type": "code",
      "metadata": {
        "id": "PyUF19s_TKfk",
        "colab_type": "code",
        "colab": {
          "base_uri": "https://localhost:8080/",
          "height": 222
        },
        "outputId": "f86cde2f-41b4-4310-9793-134057922f03"
      },
      "source": [
        "pip install mpl_finance"
      ],
      "execution_count": null,
      "outputs": [
        {
          "output_type": "stream",
          "text": [
            "Collecting mpl_finance\n",
            "  Downloading https://files.pythonhosted.org/packages/9d/de/8169ea4403d6cb8322e74cc48b6834d1dfbed81931d17f1f26b2140160d8/mpl_finance-0.10.1-py3-none-any.whl\n",
            "Requirement already satisfied: matplotlib in /usr/local/lib/python3.6/dist-packages (from mpl_finance) (3.2.2)\n",
            "Requirement already satisfied: numpy>=1.11 in /usr/local/lib/python3.6/dist-packages (from matplotlib->mpl_finance) (1.18.5)\n",
            "Requirement already satisfied: cycler>=0.10 in /usr/local/lib/python3.6/dist-packages (from matplotlib->mpl_finance) (0.10.0)\n",
            "Requirement already satisfied: kiwisolver>=1.0.1 in /usr/local/lib/python3.6/dist-packages (from matplotlib->mpl_finance) (1.2.0)\n",
            "Requirement already satisfied: pyparsing!=2.0.4,!=2.1.2,!=2.1.6,>=2.0.1 in /usr/local/lib/python3.6/dist-packages (from matplotlib->mpl_finance) (2.4.7)\n",
            "Requirement already satisfied: python-dateutil>=2.1 in /usr/local/lib/python3.6/dist-packages (from matplotlib->mpl_finance) (2.8.1)\n",
            "Requirement already satisfied: six in /usr/local/lib/python3.6/dist-packages (from cycler>=0.10->matplotlib->mpl_finance) (1.15.0)\n",
            "Installing collected packages: mpl-finance\n",
            "Successfully installed mpl-finance-0.10.1\n"
          ],
          "name": "stdout"
        }
      ]
    },
    {
      "cell_type": "code",
      "metadata": {
        "id": "eOD0fFCDxK9_",
        "colab_type": "code",
        "colab": {
          "base_uri": "https://localhost:8080/",
          "height": 658
        },
        "outputId": "18e74282-abe5-4b97-8608-9f2b7ca86023"
      },
      "source": [
        "pip install tensorflow"
      ],
      "execution_count": null,
      "outputs": [
        {
          "output_type": "stream",
          "text": [
            "Requirement already satisfied: tensorflow in /usr/local/lib/python3.6/dist-packages (2.3.0)\n",
            "Requirement already satisfied: h5py<2.11.0,>=2.10.0 in /usr/local/lib/python3.6/dist-packages (from tensorflow) (2.10.0)\n",
            "Requirement already satisfied: protobuf>=3.9.2 in /usr/local/lib/python3.6/dist-packages (from tensorflow) (3.12.4)\n",
            "Requirement already satisfied: absl-py>=0.7.0 in /usr/local/lib/python3.6/dist-packages (from tensorflow) (0.8.1)\n",
            "Requirement already satisfied: grpcio>=1.8.6 in /usr/local/lib/python3.6/dist-packages (from tensorflow) (1.31.0)\n",
            "Requirement already satisfied: keras-preprocessing<1.2,>=1.1.1 in /usr/local/lib/python3.6/dist-packages (from tensorflow) (1.1.2)\n",
            "Requirement already satisfied: google-pasta>=0.1.8 in /usr/local/lib/python3.6/dist-packages (from tensorflow) (0.2.0)\n",
            "Requirement already satisfied: opt-einsum>=2.3.2 in /usr/local/lib/python3.6/dist-packages (from tensorflow) (3.3.0)\n",
            "Requirement already satisfied: scipy==1.4.1 in /usr/local/lib/python3.6/dist-packages (from tensorflow) (1.4.1)\n",
            "Requirement already satisfied: gast==0.3.3 in /usr/local/lib/python3.6/dist-packages (from tensorflow) (0.3.3)\n",
            "Requirement already satisfied: numpy<1.19.0,>=1.16.0 in /usr/local/lib/python3.6/dist-packages (from tensorflow) (1.18.5)\n",
            "Requirement already satisfied: tensorflow-estimator<2.4.0,>=2.3.0 in /usr/local/lib/python3.6/dist-packages (from tensorflow) (2.3.0)\n",
            "Requirement already satisfied: termcolor>=1.1.0 in /usr/local/lib/python3.6/dist-packages (from tensorflow) (1.1.0)\n",
            "Requirement already satisfied: six>=1.12.0 in /usr/local/lib/python3.6/dist-packages (from tensorflow) (1.15.0)\n",
            "Requirement already satisfied: tensorboard<3,>=2.3.0 in /usr/local/lib/python3.6/dist-packages (from tensorflow) (2.3.0)\n",
            "Requirement already satisfied: astunparse==1.6.3 in /usr/local/lib/python3.6/dist-packages (from tensorflow) (1.6.3)\n",
            "Requirement already satisfied: wheel>=0.26 in /usr/local/lib/python3.6/dist-packages (from tensorflow) (0.35.1)\n",
            "Requirement already satisfied: wrapt>=1.11.1 in /usr/local/lib/python3.6/dist-packages (from tensorflow) (1.12.1)\n",
            "Requirement already satisfied: setuptools in /usr/local/lib/python3.6/dist-packages (from protobuf>=3.9.2->tensorflow) (49.6.0)\n",
            "Requirement already satisfied: google-auth-oauthlib<0.5,>=0.4.1 in /usr/local/lib/python3.6/dist-packages (from tensorboard<3,>=2.3.0->tensorflow) (0.4.1)\n",
            "Requirement already satisfied: requests<3,>=2.21.0 in /usr/local/lib/python3.6/dist-packages (from tensorboard<3,>=2.3.0->tensorflow) (2.23.0)\n",
            "Requirement already satisfied: tensorboard-plugin-wit>=1.6.0 in /usr/local/lib/python3.6/dist-packages (from tensorboard<3,>=2.3.0->tensorflow) (1.7.0)\n",
            "Requirement already satisfied: markdown>=2.6.8 in /usr/local/lib/python3.6/dist-packages (from tensorboard<3,>=2.3.0->tensorflow) (3.2.2)\n",
            "Requirement already satisfied: werkzeug>=0.11.15 in /usr/local/lib/python3.6/dist-packages (from tensorboard<3,>=2.3.0->tensorflow) (1.0.1)\n",
            "Requirement already satisfied: google-auth<2,>=1.6.3 in /usr/local/lib/python3.6/dist-packages (from tensorboard<3,>=2.3.0->tensorflow) (1.17.2)\n",
            "Requirement already satisfied: requests-oauthlib>=0.7.0 in /usr/local/lib/python3.6/dist-packages (from google-auth-oauthlib<0.5,>=0.4.1->tensorboard<3,>=2.3.0->tensorflow) (1.3.0)\n",
            "Requirement already satisfied: urllib3!=1.25.0,!=1.25.1,<1.26,>=1.21.1 in /usr/local/lib/python3.6/dist-packages (from requests<3,>=2.21.0->tensorboard<3,>=2.3.0->tensorflow) (1.24.3)\n",
            "Requirement already satisfied: idna<3,>=2.5 in /usr/local/lib/python3.6/dist-packages (from requests<3,>=2.21.0->tensorboard<3,>=2.3.0->tensorflow) (2.10)\n",
            "Requirement already satisfied: chardet<4,>=3.0.2 in /usr/local/lib/python3.6/dist-packages (from requests<3,>=2.21.0->tensorboard<3,>=2.3.0->tensorflow) (3.0.4)\n",
            "Requirement already satisfied: certifi>=2017.4.17 in /usr/local/lib/python3.6/dist-packages (from requests<3,>=2.21.0->tensorboard<3,>=2.3.0->tensorflow) (2020.6.20)\n",
            "Requirement already satisfied: importlib-metadata; python_version < \"3.8\" in /usr/local/lib/python3.6/dist-packages (from markdown>=2.6.8->tensorboard<3,>=2.3.0->tensorflow) (1.7.0)\n",
            "Requirement already satisfied: pyasn1-modules>=0.2.1 in /usr/local/lib/python3.6/dist-packages (from google-auth<2,>=1.6.3->tensorboard<3,>=2.3.0->tensorflow) (0.2.8)\n",
            "Requirement already satisfied: rsa<5,>=3.1.4; python_version >= \"3\" in /usr/local/lib/python3.6/dist-packages (from google-auth<2,>=1.6.3->tensorboard<3,>=2.3.0->tensorflow) (4.6)\n",
            "Requirement already satisfied: cachetools<5.0,>=2.0.0 in /usr/local/lib/python3.6/dist-packages (from google-auth<2,>=1.6.3->tensorboard<3,>=2.3.0->tensorflow) (4.1.1)\n",
            "Requirement already satisfied: oauthlib>=3.0.0 in /usr/local/lib/python3.6/dist-packages (from requests-oauthlib>=0.7.0->google-auth-oauthlib<0.5,>=0.4.1->tensorboard<3,>=2.3.0->tensorflow) (3.1.0)\n",
            "Requirement already satisfied: zipp>=0.5 in /usr/local/lib/python3.6/dist-packages (from importlib-metadata; python_version < \"3.8\"->markdown>=2.6.8->tensorboard<3,>=2.3.0->tensorflow) (3.1.0)\n",
            "Requirement already satisfied: pyasn1<0.5.0,>=0.4.6 in /usr/local/lib/python3.6/dist-packages (from pyasn1-modules>=0.2.1->google-auth<2,>=1.6.3->tensorboard<3,>=2.3.0->tensorflow) (0.4.8)\n"
          ],
          "name": "stdout"
        }
      ]
    },
    {
      "cell_type": "code",
      "metadata": {
        "id": "ZPXqKoUcLq8a",
        "colab_type": "code",
        "colab": {
          "base_uri": "https://localhost:8080/",
          "height": 34
        },
        "outputId": "7a7cfb57-f51c-4923-8fa5-aa2e8747b98b"
      },
      "source": [
        "import duka.app.app as import_ticks_method\n",
        "from duka.core.utils import TimeFrame\n",
        "import datetime\n",
        "\n",
        "import os\n",
        "import numpy as np\n",
        "import pandas as pd\n",
        "import itertools\n",
        "import sklearn\n",
        "import keras\n",
        "import time\n",
        "\n",
        "import tensorflow as tf\n",
        "from keras.models import Sequential\n",
        "from keras.layers import Dense\n",
        "from keras.layers import LSTM\n",
        "from keras.models import load_model\n",
        "from sklearn.preprocessing import MinMaxScaler\n",
        "from sklearn.model_selection import train_test_split\n",
        "from sklearn.metrics import mean_squared_error\n",
        "from keras.layers import Dense, Activation\n",
        "from sklearn.model_selection import train_test_split\n",
        "import matplotlib.pyplot as plt\n",
        "import matplotlib.ticker as mticker\n",
        "from mpl_finance import candlestick_ohlc\n",
        "\n",
        "\n",
        "# start_date = datetime.date(2018,1,1) \n",
        "# end_date = datetime.date(2018,2,1)\n",
        "# Assets = ['EURUSD']\n",
        "\n",
        "# import_ticks_method(Assets, start_date, end_date, 1, TimeFrame.TICK, \".\", True)\n"
      ],
      "execution_count": null,
      "outputs": [
        {
          "output_type": "stream",
          "text": [
            "[####################################################################################################] 100%  Left : 0:00:00  "
          ],
          "name": "stdout"
        }
      ]
    },
    {
      "cell_type": "code",
      "metadata": {
        "id": "Ur4L-kMva76c",
        "colab_type": "code",
        "colab": {}
      },
      "source": [
        "%matplotlib inline\n",
        "# %reload_ext autoreload\n",
        "# %autoreload 2\n",
        "# %matplotlib notebook"
      ],
      "execution_count": null,
      "outputs": []
    },
    {
      "cell_type": "code",
      "metadata": {
        "id": "fR4PB8HprT_5",
        "colab_type": "code",
        "colab": {
          "base_uri": "https://localhost:8080/",
          "height": 269
        },
        "outputId": "9f68b83a-ef33-4b54-f11e-0d7e5d0ebebf"
      },
      "source": [
        "tick_data = pd.read_csv('/content/EURUSD-2018_01_01-2018_02_01.csv', index_col=['time'], parse_dates=['time'] )\n",
        "print(tick_data)  "
      ],
      "execution_count": null,
      "outputs": [
        {
          "output_type": "stream",
          "text": [
            "                             ask      bid  ask_volume  bid_volume\n",
            "time                                                             \n",
            "2018-01-01 22:00:08.661  1.20143  1.20102      750000     1500000\n",
            "2018-01-01 22:00:08.895  1.20148  1.20102     1500000     1500000\n",
            "2018-01-01 22:00:10.634  1.20147  1.20102      750000     1500000\n",
            "2018-01-01 22:00:11.223  1.20148  1.20102     1500000     1500000\n",
            "2018-01-01 22:00:29.530  1.20145  1.20102      750000     1500000\n",
            "...                          ...      ...         ...         ...\n",
            "2018-02-01 23:59:57.565  1.25106  1.25104     3820000     3560000\n",
            "2018-02-01 23:59:57.618  1.25109  1.25104     1570000     4690000\n",
            "2018-02-01 23:59:57.773  1.25109  1.25106     1120000     1250000\n",
            "2018-02-01 23:59:58.351  1.25109  1.25105     1120000     1690000\n",
            "2018-02-01 23:59:59.443  1.25109  1.25105     1120000     2060000\n",
            "\n",
            "[2437301 rows x 4 columns]\n"
          ],
          "name": "stdout"
        }
      ]
    },
    {
      "cell_type": "code",
      "metadata": {
        "id": "zZAfvuyNIqr3",
        "colab_type": "code",
        "colab": {
          "base_uri": "https://localhost:8080/",
          "height": 521
        },
        "outputId": "19c5be31-33b3-44ae-83d4-258309f792bb"
      },
      "source": [
        "#Visualize the closing price history\n",
        "plt.figure(figsize=(16,8))\n",
        "plt.title('bid History')\n",
        "plt.plot(tick_data['bid'])\n",
        "plt.xlabel('time',fontsize=18)\n",
        "plt.ylabel('bid',fontsize=18)\n",
        "plt.show()"
      ],
      "execution_count": null,
      "outputs": [
        {
          "output_type": "display_data",
          "data": {
            "image/png": "[encoded data removed]",
            "text/plain": [
              "<Figure size 1152x576 with 1 Axes>"
            ]
          },
          "metadata": {
            "tags": [],
            "needs_background": "light"
          }
        }
      ]
    },
    {
      "cell_type": "code",
      "metadata": {
        "id": "I_IG_PjCXePr",
        "colab_type": "code",
        "colab": {
          "base_uri": "https://localhost:8080/",
          "height": 431
        },
        "outputId": "d7e7022e-ddaf-411d-def2-40f34da2ca3f"
      },
      "source": [
        "# this code converts ticks data to ohlc for intervals of 60seconds\n",
        "def convert_ticks_to_ohlc(df, df_columns, timeframe):\n",
        "  data_frame = df[df_columns].resample(timeframe).ohlc()\n",
        "  return data_frame\n",
        "\n",
        "data_ask = convert_ticks_to_ohlc(tick_data, \"bid\", \"90000L\")\n",
        "data_ask = data_ask.dropna()\n",
        "data_ask"
      ],
      "execution_count": null,
      "outputs": [
        {
          "output_type": "execute_result",
          "data": {
            "text/html": [
              "<div>\n",
              "<style scoped>\n",
              "    .dataframe tbody tr th:only-of-type {\n",
              "        vertical-align: middle;\n",
              "    }\n",
              "\n",
              "    .dataframe tbody tr th {\n",
              "        vertical-align: top;\n",
              "    }\n",
              "\n",
              "    .dataframe thead th {\n",
              "        text-align: right;\n",
              "    }\n",
              "</style>\n",
              "<table border=\"1\" class=\"dataframe\">\n",
              "  <thead>\n",
              "    <tr style=\"text-align: right;\">\n",
              "      <th></th>\n",
              "      <th>open</th>\n",
              "      <th>high</th>\n",
              "      <th>low</th>\n",
              "      <th>close</th>\n",
              "    </tr>\n",
              "    <tr>\n",
              "      <th>time</th>\n",
              "      <th></th>\n",
              "      <th></th>\n",
              "      <th></th>\n",
              "      <th></th>\n",
              "    </tr>\n",
              "  </thead>\n",
              "  <tbody>\n",
              "    <tr>\n",
              "      <th>2018-01-01 22:00:00</th>\n",
              "      <td>1.20102</td>\n",
              "      <td>1.20102</td>\n",
              "      <td>1.20097</td>\n",
              "      <td>1.20099</td>\n",
              "    </tr>\n",
              "    <tr>\n",
              "      <th>2018-01-01 22:01:30</th>\n",
              "      <td>1.20090</td>\n",
              "      <td>1.20090</td>\n",
              "      <td>1.20007</td>\n",
              "      <td>1.20025</td>\n",
              "    </tr>\n",
              "    <tr>\n",
              "      <th>2018-01-01 22:03:00</th>\n",
              "      <td>1.20024</td>\n",
              "      <td>1.20050</td>\n",
              "      <td>1.20024</td>\n",
              "      <td>1.20032</td>\n",
              "    </tr>\n",
              "    <tr>\n",
              "      <th>2018-01-01 22:04:30</th>\n",
              "      <td>1.20031</td>\n",
              "      <td>1.20052</td>\n",
              "      <td>1.20031</td>\n",
              "      <td>1.20052</td>\n",
              "    </tr>\n",
              "    <tr>\n",
              "      <th>2018-01-01 22:06:00</th>\n",
              "      <td>1.20052</td>\n",
              "      <td>1.20069</td>\n",
              "      <td>1.20030</td>\n",
              "      <td>1.20054</td>\n",
              "    </tr>\n",
              "    <tr>\n",
              "      <th>...</th>\n",
              "      <td>...</td>\n",
              "      <td>...</td>\n",
              "      <td>...</td>\n",
              "      <td>...</td>\n",
              "    </tr>\n",
              "    <tr>\n",
              "      <th>2018-02-01 23:52:30</th>\n",
              "      <td>1.25107</td>\n",
              "      <td>1.25154</td>\n",
              "      <td>1.25107</td>\n",
              "      <td>1.25148</td>\n",
              "    </tr>\n",
              "    <tr>\n",
              "      <th>2018-02-01 23:54:00</th>\n",
              "      <td>1.25148</td>\n",
              "      <td>1.25149</td>\n",
              "      <td>1.25117</td>\n",
              "      <td>1.25118</td>\n",
              "    </tr>\n",
              "    <tr>\n",
              "      <th>2018-02-01 23:55:30</th>\n",
              "      <td>1.25117</td>\n",
              "      <td>1.25118</td>\n",
              "      <td>1.25099</td>\n",
              "      <td>1.25113</td>\n",
              "    </tr>\n",
              "    <tr>\n",
              "      <th>2018-02-01 23:57:00</th>\n",
              "      <td>1.25113</td>\n",
              "      <td>1.25114</td>\n",
              "      <td>1.25092</td>\n",
              "      <td>1.25094</td>\n",
              "    </tr>\n",
              "    <tr>\n",
              "      <th>2018-02-01 23:58:30</th>\n",
              "      <td>1.25095</td>\n",
              "      <td>1.25106</td>\n",
              "      <td>1.25088</td>\n",
              "      <td>1.25105</td>\n",
              "    </tr>\n",
              "  </tbody>\n",
              "</table>\n",
              "<p>22160 rows × 4 columns</p>\n",
              "</div>"
            ],
            "text/plain": [
              "                        open     high      low    close\n",
              "time                                                   \n",
              "2018-01-01 22:00:00  1.20102  1.20102  1.20097  1.20099\n",
              "2018-01-01 22:01:30  1.20090  1.20090  1.20007  1.20025\n",
              "2018-01-01 22:03:00  1.20024  1.20050  1.20024  1.20032\n",
              "2018-01-01 22:04:30  1.20031  1.20052  1.20031  1.20052\n",
              "2018-01-01 22:06:00  1.20052  1.20069  1.20030  1.20054\n",
              "...                      ...      ...      ...      ...\n",
              "2018-02-01 23:52:30  1.25107  1.25154  1.25107  1.25148\n",
              "2018-02-01 23:54:00  1.25148  1.25149  1.25117  1.25118\n",
              "2018-02-01 23:55:30  1.25117  1.25118  1.25099  1.25113\n",
              "2018-02-01 23:57:00  1.25113  1.25114  1.25092  1.25094\n",
              "2018-02-01 23:58:30  1.25095  1.25106  1.25088  1.25105\n",
              "\n",
              "[22160 rows x 4 columns]"
            ]
          },
          "metadata": {
            "tags": []
          },
          "execution_count": 35
        }
      ]
    },
    {
      "cell_type": "code",
      "metadata": {
        "id": "gcn0Ehe1JVuf",
        "colab_type": "code",
        "colab": {
          "base_uri": "https://localhost:8080/",
          "height": 284
        },
        "outputId": "4f89558f-d186-441f-e27e-135aeafd6fcc"
      },
      "source": [
        "tick_data.describe()"
      ],
      "execution_count": null,
      "outputs": [
        {
          "output_type": "execute_result",
          "data": {
            "text/html": [
              "<div>\n",
              "<style scoped>\n",
              "    .dataframe tbody tr th:only-of-type {\n",
              "        vertical-align: middle;\n",
              "    }\n",
              "\n",
              "    .dataframe tbody tr th {\n",
              "        vertical-align: top;\n",
              "    }\n",
              "\n",
              "    .dataframe thead th {\n",
              "        text-align: right;\n",
              "    }\n",
              "</style>\n",
              "<table border=\"1\" class=\"dataframe\">\n",
              "  <thead>\n",
              "    <tr style=\"text-align: right;\">\n",
              "      <th></th>\n",
              "      <th>ask</th>\n",
              "      <th>bid</th>\n",
              "      <th>ask_volume</th>\n",
              "      <th>bid_volume</th>\n",
              "    </tr>\n",
              "  </thead>\n",
              "  <tbody>\n",
              "    <tr>\n",
              "      <th>count</th>\n",
              "      <td>2.437301e+06</td>\n",
              "      <td>2.437301e+06</td>\n",
              "      <td>2.437301e+06</td>\n",
              "      <td>2.437301e+06</td>\n",
              "    </tr>\n",
              "    <tr>\n",
              "      <th>mean</th>\n",
              "      <td>1.223794e+00</td>\n",
              "      <td>1.223762e+00</td>\n",
              "      <td>2.494663e+06</td>\n",
              "      <td>2.447136e+06</td>\n",
              "    </tr>\n",
              "    <tr>\n",
              "      <th>std</th>\n",
              "      <td>1.702975e-02</td>\n",
              "      <td>1.702771e-02</td>\n",
              "      <td>5.094850e+06</td>\n",
              "      <td>2.506601e+06</td>\n",
              "    </tr>\n",
              "    <tr>\n",
              "      <th>min</th>\n",
              "      <td>1.191580e+00</td>\n",
              "      <td>1.191560e+00</td>\n",
              "      <td>1.000000e+05</td>\n",
              "      <td>1.000000e+05</td>\n",
              "    </tr>\n",
              "    <tr>\n",
              "      <th>25%</th>\n",
              "      <td>1.206090e+00</td>\n",
              "      <td>1.206060e+00</td>\n",
              "      <td>1.120000e+06</td>\n",
              "      <td>1.120000e+06</td>\n",
              "    </tr>\n",
              "    <tr>\n",
              "      <th>50%</th>\n",
              "      <td>1.225080e+00</td>\n",
              "      <td>1.225060e+00</td>\n",
              "      <td>1.690000e+06</td>\n",
              "      <td>1.680000e+06</td>\n",
              "    </tr>\n",
              "    <tr>\n",
              "      <th>75%</th>\n",
              "      <td>1.240360e+00</td>\n",
              "      <td>1.240310e+00</td>\n",
              "      <td>3.070000e+06</td>\n",
              "      <td>3.000000e+06</td>\n",
              "    </tr>\n",
              "    <tr>\n",
              "      <th>max</th>\n",
              "      <td>1.253750e+00</td>\n",
              "      <td>1.253730e+00</td>\n",
              "      <td>4.176750e+09</td>\n",
              "      <td>7.905400e+08</td>\n",
              "    </tr>\n",
              "  </tbody>\n",
              "</table>\n",
              "</div>"
            ],
            "text/plain": [
              "                ask           bid    ask_volume    bid_volume\n",
              "count  2.437301e+06  2.437301e+06  2.437301e+06  2.437301e+06\n",
              "mean   1.223794e+00  1.223762e+00  2.494663e+06  2.447136e+06\n",
              "std    1.702975e-02  1.702771e-02  5.094850e+06  2.506601e+06\n",
              "min    1.191580e+00  1.191560e+00  1.000000e+05  1.000000e+05\n",
              "25%    1.206090e+00  1.206060e+00  1.120000e+06  1.120000e+06\n",
              "50%    1.225080e+00  1.225060e+00  1.690000e+06  1.680000e+06\n",
              "75%    1.240360e+00  1.240310e+00  3.070000e+06  3.000000e+06\n",
              "max    1.253750e+00  1.253730e+00  4.176750e+09  7.905400e+08"
            ]
          },
          "metadata": {
            "tags": []
          },
          "execution_count": 36
        }
      ]
    },
    {
      "cell_type": "code",
      "metadata": {
        "id": "pytMMqAWvk4w",
        "colab_type": "code",
        "colab": {
          "base_uri": "https://localhost:8080/",
          "height": 284
        },
        "outputId": "fc683fc5-1483-40fd-eed4-cb90e5b2afd2"
      },
      "source": [
        "data_ask.describe()"
      ],
      "execution_count": null,
      "outputs": [
        {
          "output_type": "execute_result",
          "data": {
            "text/html": [
              "<div>\n",
              "<style scoped>\n",
              "    .dataframe tbody tr th:only-of-type {\n",
              "        vertical-align: middle;\n",
              "    }\n",
              "\n",
              "    .dataframe tbody tr th {\n",
              "        vertical-align: top;\n",
              "    }\n",
              "\n",
              "    .dataframe thead th {\n",
              "        text-align: right;\n",
              "    }\n",
              "</style>\n",
              "<table border=\"1\" class=\"dataframe\">\n",
              "  <thead>\n",
              "    <tr style=\"text-align: right;\">\n",
              "      <th></th>\n",
              "      <th>open</th>\n",
              "      <th>high</th>\n",
              "      <th>low</th>\n",
              "      <th>close</th>\n",
              "    </tr>\n",
              "  </thead>\n",
              "  <tbody>\n",
              "    <tr>\n",
              "      <th>count</th>\n",
              "      <td>22160.000000</td>\n",
              "      <td>22160.000000</td>\n",
              "      <td>22160.000000</td>\n",
              "      <td>22160.000000</td>\n",
              "    </tr>\n",
              "    <tr>\n",
              "      <th>mean</th>\n",
              "      <td>1.220673</td>\n",
              "      <td>1.220803</td>\n",
              "      <td>1.220545</td>\n",
              "      <td>1.220675</td>\n",
              "    </tr>\n",
              "    <tr>\n",
              "      <th>std</th>\n",
              "      <td>0.017088</td>\n",
              "      <td>0.017117</td>\n",
              "      <td>0.017059</td>\n",
              "      <td>0.017088</td>\n",
              "    </tr>\n",
              "    <tr>\n",
              "      <th>min</th>\n",
              "      <td>1.191650</td>\n",
              "      <td>1.191830</td>\n",
              "      <td>1.191560</td>\n",
              "      <td>1.191650</td>\n",
              "    </tr>\n",
              "    <tr>\n",
              "      <th>25%</th>\n",
              "      <td>1.204278</td>\n",
              "      <td>1.204380</td>\n",
              "      <td>1.204180</td>\n",
              "      <td>1.204270</td>\n",
              "    </tr>\n",
              "    <tr>\n",
              "      <th>50%</th>\n",
              "      <td>1.223620</td>\n",
              "      <td>1.223750</td>\n",
              "      <td>1.223460</td>\n",
              "      <td>1.223610</td>\n",
              "    </tr>\n",
              "    <tr>\n",
              "      <th>75%</th>\n",
              "      <td>1.238010</td>\n",
              "      <td>1.238110</td>\n",
              "      <td>1.237872</td>\n",
              "      <td>1.238000</td>\n",
              "    </tr>\n",
              "    <tr>\n",
              "      <th>max</th>\n",
              "      <td>1.253360</td>\n",
              "      <td>1.253730</td>\n",
              "      <td>1.252140</td>\n",
              "      <td>1.253400</td>\n",
              "    </tr>\n",
              "  </tbody>\n",
              "</table>\n",
              "</div>"
            ],
            "text/plain": [
              "               open          high           low         close\n",
              "count  22160.000000  22160.000000  22160.000000  22160.000000\n",
              "mean       1.220673      1.220803      1.220545      1.220675\n",
              "std        0.017088      0.017117      0.017059      0.017088\n",
              "min        1.191650      1.191830      1.191560      1.191650\n",
              "25%        1.204278      1.204380      1.204180      1.204270\n",
              "50%        1.223620      1.223750      1.223460      1.223610\n",
              "75%        1.238010      1.238110      1.237872      1.238000\n",
              "max        1.253360      1.253730      1.252140      1.253400"
            ]
          },
          "metadata": {
            "tags": []
          },
          "execution_count": 37
        }
      ]
    },
    {
      "cell_type": "code",
      "metadata": {
        "id": "G0F5EN4t3evY",
        "colab_type": "code",
        "colab": {
          "base_uri": "https://localhost:8080/",
          "height": 521
        },
        "outputId": "9a879e04-7933-428a-b141-8a4a8b4be323"
      },
      "source": [
        "#Visualize the closing price history\n",
        "plt.figure(figsize=(16,8))\n",
        "plt.title('Close Price History')\n",
        "plt.plot(data_ask['close'])\n",
        "plt.xlabel('time',fontsize=18)\n",
        "plt.ylabel('Close Price USD ($)',fontsize=18)\n",
        "plt.show()"
      ],
      "execution_count": null,
      "outputs": [
        {
          "output_type": "display_data",
          "data": {
            "image/png": "[encoded data removed]",
            "text/plain": [
              "<Figure size 1152x576 with 1 Axes>"
            ]
          },
          "metadata": {
            "tags": [],
            "needs_background": "light"
          }
        }
      ]
    },
    {
      "cell_type": "code",
      "metadata": {
        "id": "WY3DwVPq_atM",
        "colab_type": "code",
        "colab": {}
      },
      "source": [
        "def graph_data_ohlc(dataset):\n",
        "    fig = plt.figure()\n",
        "    ax1 = plt.subplot2grid((1,1), (0,0))\n",
        "    closep=dataset[:,[3]]\n",
        "    highp=dataset[:,[1]]\n",
        "    lowp=dataset[:,[2]]\n",
        "    openp=dataset[:,[0]]\n",
        "    date=range(len(closep))\n",
        "\n",
        "    x = 0\n",
        "    y = len(date)\n",
        "    ohlc = []\n",
        "    while x < y:\n",
        "        append_me = date[x], openp[x], highp[x], lowp[x], closep[x]\n",
        "        ohlc.append(append_me)\n",
        "        x+=1\n",
        "    candlestick_ohlc(ax1, ohlc, width=0.4, colorup='#77d879', colordown='#db3f3f')\n",
        "    for label in ax1.xaxis.get_ticklabels():\n",
        "        label.set_rotation(45)\n",
        "    ax1.xaxis.set_major_locator(mticker.MaxNLocator(10))\n",
        "    ax1.grid(True)\n",
        "    plt.xlabel('Candle')\n",
        "    plt.ylabel('Price')\n",
        "    plt.title('Candlestick sample representation')\n",
        "\n",
        "    plt.subplots_adjust(left=0.09, bottom=0.20, right=0.94, top=0.90, wspace=0.2, hspace=0)\n",
        "    plt.show()"
      ],
      "execution_count": null,
      "outputs": []
    },
    {
      "cell_type": "code",
      "metadata": {
        "id": "j9W0V7bm_f5C",
        "colab_type": "code",
        "colab": {
          "base_uri": "https://localhost:8080/",
          "height": 286
        },
        "outputId": "01f2b270-ae87-44c9-cfbf-060cd5f6c737"
      },
      "source": [
        "graph_data_ohlc(data_ask.tail(100).values)"
      ],
      "execution_count": null,
      "outputs": [
        {
          "output_type": "display_data",
          "data": {
            "image/png": "[encoded data removed]",
            "text/plain": [
              "<Figure size 432x288 with 1 Axes>"
            ]
          },
          "metadata": {
            "tags": [],
            "needs_background": "light"
          }
        }
      ]
    },
    {
      "cell_type": "markdown",
      "metadata": {
        "id": "2KBXbKc5sapy",
        "colab_type": "text"
      },
      "source": [
        "## This is the analysis using the lstm model which is an artificial recurrent neural network\n"
      ]
    },
    {
      "cell_type": "code",
      "metadata": {
        "id": "4Wo76BKUrisM",
        "colab_type": "code",
        "colab": {}
      },
      "source": [
        "# split the data into train and test set\n",
        "train, test = train_test_split(data_ask, test_size=0.3, random_state=42, shuffle=True)"
      ],
      "execution_count": null,
      "outputs": []
    },
    {
      "cell_type": "code",
      "metadata": {
        "id": "slgvuRxvrkqh",
        "colab_type": "code",
        "colab": {
          "base_uri": "https://localhost:8080/",
          "height": 602
        },
        "outputId": "36747307-9e47-417f-c0bf-38a9209ce443"
      },
      "source": [
        "train.plot(title = 'train data')\n",
        "test.plot(title = 'Test data')"
      ],
      "execution_count": null,
      "outputs": [
        {
          "output_type": "execute_result",
          "data": {
            "text/plain": [
              "<matplotlib.axes._subplots.AxesSubplot at 0x7f44c5977e80>"
            ]
          },
          "metadata": {
            "tags": []
          },
          "execution_count": 42
        },
        {
          "output_type": "display_data",
          "data": {
            "image/png": "[encoded data removed]",
            "text/plain": [
              "<Figure size 432x288 with 1 Axes>"
            ]
          },
          "metadata": {
            "tags": [],
            "needs_background": "light"
          }
        },
        {
          "output_type": "display_data",
          "data": {
            "image/png": "[encoded data removed]",
            "text/plain": [
              "<Figure size 432x288 with 1 Axes>"
            ]
          },
          "metadata": {
            "tags": [],
            "needs_background": "light"
          }
        }
      ]
    },
    {
      "cell_type": "code",
      "metadata": {
        "id": "qECWOp7krtE-",
        "colab_type": "code",
        "colab": {}
      },
      "source": [
        "def create_training_dataset(dataset, look_back, time_ahead):\n",
        "    '''\n",
        "    Converts an array of values into a dataset matrix of X and Y for a sequential model\n",
        "    '''\n",
        "    dataX, dataY = [], []\n",
        "\n",
        "    for i in range(len(dataset) - look_back - time_ahead + 1):\n",
        "        a = dataset[i:(i+look_back), 0]\n",
        "        dataX.append(a)\n",
        "        dataY.append(dataset[i + look_back + time_ahead - 1, 0])\n",
        "\n",
        "    dataX = np.array(dataX)\n",
        "    dataX = np.reshape(dataX, (dataX.shape[0], 1, dataX.shape[1]))\n",
        "    dataY = np.array(dataY)\n",
        "\n",
        "    return dataX, dataY"
      ],
      "execution_count": null,
      "outputs": []
    },
    {
      "cell_type": "code",
      "metadata": {
        "id": "V_RGXKvsxUw9",
        "colab_type": "code",
        "colab": {}
      },
      "source": [
        "# Load the TensorBoard notebook extension\n",
        "%load_ext tensorboard"
      ],
      "execution_count": null,
      "outputs": []
    },
    {
      "cell_type": "code",
      "metadata": {
        "id": "h5pyJg0drvFf",
        "colab_type": "code",
        "colab": {}
      },
      "source": [
        "epoch = 20\n",
        "time_ahead = 1\n",
        "look_back = 500\n",
        "def Create_model():\n",
        "    print(\"Building model with:\", 'LSTM')\n",
        "\n",
        "    \n",
        "    # Train on last 500 prices and try to predict the next price\n",
        "    look_back = 500\n",
        "    units = 50\n",
        "    \n",
        "    model_name = 'LSTM'\n",
        "    # Create the model\n",
        "    model = Sequential()\n",
        "    model.add(LSTM(units, input_shape=(1, look_back)))\n",
        "    model.add(Dense(1))\n",
        "    model.add(Activation('linear'))\n",
        "    model.compile(optimizer='adam', loss='mean_squared_error', metrics=['mse'])\n",
        "    \n",
        "\n",
        "    return model\n",
        "    "
      ],
      "execution_count": null,
      "outputs": []
    },
    {
      "cell_type": "code",
      "metadata": {
        "id": "e718yPZjr0kw",
        "colab_type": "code",
        "colab": {
          "base_uri": "https://localhost:8080/",
          "height": 269
        },
        "outputId": "a0847476-708f-40e8-cf2c-5df7551e50d5"
      },
      "source": [
        "model = Create_model()\n",
        "model.summary()"
      ],
      "execution_count": null,
      "outputs": [
        {
          "output_type": "stream",
          "text": [
            "Building model with: LSTM\n",
            "Model: \"sequential_2\"\n",
            "_________________________________________________________________\n",
            "Layer (type)                 Output Shape              Param #   \n",
            "=================================================================\n",
            "lstm_2 (LSTM)                (None, 50)                110200    \n",
            "_________________________________________________________________\n",
            "dense_2 (Dense)              (None, 1)                 51        \n",
            "_________________________________________________________________\n",
            "activation_2 (Activation)    (None, 1)                 0         \n",
            "=================================================================\n",
            "Total params: 110,251\n",
            "Trainable params: 110,251\n",
            "Non-trainable params: 0\n",
            "_________________________________________________________________\n"
          ],
          "name": "stdout"
        }
      ]
    },
    {
      "cell_type": "code",
      "metadata": {
        "id": "sXVnSfEur8xt",
        "colab_type": "code",
        "colab": {}
      },
      "source": [
        "# Create a function to build a TensorBoard callback\n",
        "def create_tensorboard_callback():\n",
        "  # Create a log directory for storing TensorBoard logs\n",
        "  logdir = os.path.join(\"C:\\\\Users\\\\ajaoo\\\\New folder\\\\logs\",\n",
        "                        # Make it so the logs get tracked whenever we run an experiment\n",
        "                        datetime.datetime.now().strftime(\"%Y%m%d-%H%M%S\"))\n",
        "  return tf.keras.callbacks.TensorBoard(logdir)"
      ],
      "execution_count": null,
      "outputs": []
    },
    {
      "cell_type": "code",
      "metadata": {
        "id": "K6RaxA7ysGeN",
        "colab_type": "code",
        "colab": {}
      },
      "source": [
        "# Create early stopping (once our model stops improving, stop training)\n",
        "early_stopping = tf.keras.callbacks.EarlyStopping(monitor= \"loss\",\n",
        "                                                  patience=3) # stops after 3 rounds of no improvements"
      ],
      "execution_count": null,
      "outputs": []
    },
    {
      "cell_type": "code",
      "metadata": {
        "id": "Xl8HCJRGsHsl",
        "colab_type": "code",
        "colab": {
          "base_uri": "https://localhost:8080/",
          "height": 34
        },
        "outputId": "4e9fbd59-e84f-4480-b829-78dabfb0f218"
      },
      "source": [
        "# Check again if GPU is available (otherwise computing will take a looooonnnnggggg time)\n",
        "print(\"GPU\", \"available (YESS!!!!)\" if tf.config.list_physical_devices(\"GPU\") else \"not available :(\")"
      ],
      "execution_count": null,
      "outputs": [
        {
          "output_type": "stream",
          "text": [
            "GPU available (YESS!!!!)\n"
          ],
          "name": "stdout"
        }
      ]
    },
    {
      "cell_type": "code",
      "metadata": {
        "id": "48-ATSX2sOYx",
        "colab_type": "code",
        "colab": {}
      },
      "source": [
        "# Create dataset from the DataFrame and normalise\n",
        "dataset = train['close'].values\n",
        "dataset = dataset.astype('float32')\n",
        "dataset = dataset.reshape(-1, 1)\n",
        "# normalize the dataset\n",
        "scaler = MinMaxScaler(feature_range=(0, 1))\n",
        "dataset = scaler.fit_transform(dataset)\n",
        "# Create X, Y for training\n",
        "trainX, trainY = create_training_dataset(dataset, look_back=look_back, time_ahead=time_ahead)"
      ],
      "execution_count": null,
      "outputs": []
    },
    {
      "cell_type": "code",
      "metadata": {
        "id": "lnTcZkHEsRvc",
        "colab_type": "code",
        "colab": {
          "base_uri": "https://localhost:8080/",
          "height": 34
        },
        "outputId": "44c42e9e-6e03-4cca-e567-14a73f934f39"
      },
      "source": [
        "# Create a scaler and fit\n",
        "test_scaler = MinMaxScaler(feature_range=(0, 1))\n",
        "test_scaler.fit(test['close'].values.reshape(-1, 1))"
      ],
      "execution_count": null,
      "outputs": [
        {
          "output_type": "execute_result",
          "data": {
            "text/plain": [
              "MinMaxScaler(copy=True, feature_range=(0, 1))"
            ]
          },
          "metadata": {
            "tags": []
          },
          "execution_count": 51
        }
      ]
    },
    {
      "cell_type": "code",
      "metadata": {
        "id": "fnrRF15BsXJO",
        "colab_type": "code",
        "colab": {}
      },
      "source": [
        "# Build a function to train and return a trained model\n",
        "def train_model():\n",
        "  \"\"\"\n",
        "  Trains a given model and returns the trained version.\n",
        "  \"\"\"\n",
        "  # Create a model\n",
        "  model = Create_model()\n",
        "\n",
        "  # Create new TensorBoard session everytime we train a model\n",
        "  tensorboard = create_tensorboard_callback()\n",
        "\n",
        "  # Fit the model to the data passing it the callbacks we created\n",
        "  model.fit(x=trainX,\n",
        "            y=trainY,\n",
        "            batch_size=1,\n",
        "            verbose=0,\n",
        "            epochs=epoch,\n",
        "            validation_freq=1,\n",
        "            callbacks=[tensorboard, early_stopping])\n",
        "  # Return the fitted model\n",
        "  return model"
      ],
      "execution_count": null,
      "outputs": []
    },
    {
      "cell_type": "code",
      "metadata": {
        "id": "ZcWPPPatsbxS",
        "colab_type": "code",
        "colab": {
          "base_uri": "https://localhost:8080/",
          "height": 70
        },
        "outputId": "e911785e-49a8-4d81-c5b2-863b1b69427c"
      },
      "source": [
        "model = train_model()"
      ],
      "execution_count": null,
      "outputs": [
        {
          "output_type": "stream",
          "text": [
            "Building model with: LSTM\n",
            "WARNING:tensorflow:Callbacks method `on_train_batch_end` is slow compared to the batch time (batch time: 0.0048s vs `on_train_batch_end` time: 0.0509s). Check your callbacks.\n"
          ],
          "name": "stdout"
        }
      ]
    },
    {
      "cell_type": "code",
      "metadata": {
        "id": "Od7pxBcBtV6W",
        "colab_type": "code",
        "colab": {}
      },
      "source": [
        "# a function to predict\n",
        "def predict(values):\n",
        "    values = test_scaler.transform(values.reshape(-1, 1))\n",
        "    values = np.reshape(values, (1, 1, look_back))\n",
        "    prediction = model.predict(values)\n",
        "    prediction = prediction.reshape(-1, 1)\n",
        "    return test_scaler.inverse_transform(prediction)"
      ],
      "execution_count": null,
      "outputs": []
    },
    {
      "cell_type": "code",
      "metadata": {
        "id": "adPXse7Hte0l",
        "colab_type": "code",
        "colab": {
          "base_uri": "https://localhost:8080/",
          "height": 302
        },
        "outputId": "b26efe85-a577-445d-f1b0-a0d77d21eaf1"
      },
      "source": [
        "# Put predictions from model into the dataframe with the test prices\n",
        "test['prediction_next'] = test['close'].rolling(window=look_back).apply(predict, raw=True)\n",
        "test['prediction'] = test['prediction_next'].shift(time_ahead)\n",
        "test.dropna(subset=['prediction_next'], inplace=True)"
      ],
      "execution_count": null,
      "outputs": [
        {
          "output_type": "stream",
          "text": [
            "/usr/local/lib/python3.6/dist-packages/ipykernel_launcher.py:2: SettingWithCopyWarning: \n",
            "A value is trying to be set on a copy of a slice from a DataFrame.\n",
            "Try using .loc[row_indexer,col_indexer] = value instead\n",
            "\n",
            "See the caveats in the documentation: https://pandas.pydata.org/pandas-docs/stable/user_guide/indexing.html#returning-a-view-versus-a-copy\n",
            "  \n",
            "/usr/local/lib/python3.6/dist-packages/ipykernel_launcher.py:3: SettingWithCopyWarning: \n",
            "A value is trying to be set on a copy of a slice from a DataFrame.\n",
            "Try using .loc[row_indexer,col_indexer] = value instead\n",
            "\n",
            "See the caveats in the documentation: https://pandas.pydata.org/pandas-docs/stable/user_guide/indexing.html#returning-a-view-versus-a-copy\n",
            "  This is separate from the ipykernel package so we can avoid doing imports until\n",
            "/usr/local/lib/python3.6/dist-packages/ipykernel_launcher.py:4: SettingWithCopyWarning: \n",
            "A value is trying to be set on a copy of a slice from a DataFrame\n",
            "\n",
            "See the caveats in the documentation: https://pandas.pydata.org/pandas-docs/stable/user_guide/indexing.html#returning-a-view-versus-a-copy\n",
            "  after removing the cwd from sys.path.\n"
          ],
          "name": "stderr"
        }
      ]
    },
    {
      "cell_type": "code",
      "metadata": {
        "id": "52N_wN8YuKfR",
        "colab_type": "code",
        "colab": {
          "base_uri": "https://localhost:8080/",
          "height": 34
        },
        "outputId": "3c0a79a3-ea5a-4a37-c3e0-c15884f69cd4"
      },
      "source": [
        "# RMSE\n",
        "rmse = np.sqrt(\n",
        "    mean_squared_error(\n",
        "        y_true=test.dropna()['close'].values,\n",
        "        y_pred=test.dropna()['prediction'].values\n",
        "    )\n",
        ")\n",
        "print('RMSE: {0}'.format(rmse))"
      ],
      "execution_count": null,
      "outputs": [
        {
          "output_type": "stream",
          "text": [
            "RMSE: 0.017487171148411064\n"
          ],
          "name": "stdout"
        }
      ]
    },
    {
      "cell_type": "code",
      "metadata": {
        "id": "0s8NgWB-5NYO",
        "colab_type": "code",
        "colab": {
          "base_uri": "https://localhost:8080/",
          "height": 319
        },
        "outputId": "c408db49-58c0-4045-ba77-638391b4a7b6"
      },
      "source": [
        "# add columns for price direction and predicted direction\n",
        "test['next_direction'] = np.where(test['close'] > test['close'].shift(-1), -1, 1)\n",
        "test['next_direction_prediction'] = np.where(test['prediction_next'] > test['close'], 1, -1)\n",
        "test['correct'] = test['next_direction_prediction'] == test['next_direction']"
      ],
      "execution_count": null,
      "outputs": [
        {
          "output_type": "stream",
          "text": [
            "/usr/local/lib/python3.6/dist-packages/ipykernel_launcher.py:2: SettingWithCopyWarning: \n",
            "A value is trying to be set on a copy of a slice from a DataFrame.\n",
            "Try using .loc[row_indexer,col_indexer] = value instead\n",
            "\n",
            "See the caveats in the documentation: https://pandas.pydata.org/pandas-docs/stable/user_guide/indexing.html#returning-a-view-versus-a-copy\n",
            "  \n",
            "/usr/local/lib/python3.6/dist-packages/ipykernel_launcher.py:3: SettingWithCopyWarning: \n",
            "A value is trying to be set on a copy of a slice from a DataFrame.\n",
            "Try using .loc[row_indexer,col_indexer] = value instead\n",
            "\n",
            "See the caveats in the documentation: https://pandas.pydata.org/pandas-docs/stable/user_guide/indexing.html#returning-a-view-versus-a-copy\n",
            "  This is separate from the ipykernel package so we can avoid doing imports until\n",
            "/usr/local/lib/python3.6/dist-packages/ipykernel_launcher.py:4: SettingWithCopyWarning: \n",
            "A value is trying to be set on a copy of a slice from a DataFrame.\n",
            "Try using .loc[row_indexer,col_indexer] = value instead\n",
            "\n",
            "See the caveats in the documentation: https://pandas.pydata.org/pandas-docs/stable/user_guide/indexing.html#returning-a-view-versus-a-copy\n",
            "  after removing the cwd from sys.path.\n"
          ],
          "name": "stderr"
        }
      ]
    },
    {
      "cell_type": "code",
      "metadata": {
        "id": "jExyJs_xA80e",
        "colab_type": "code",
        "colab": {
          "base_uri": "https://localhost:8080/",
          "height": 67
        },
        "outputId": "1a3f4d3e-b9d2-426c-a154-4a573b4fa367"
      },
      "source": [
        "# How often does the model predict the correct price change direction\n",
        "test['correct'].value_counts()"
      ],
      "execution_count": null,
      "outputs": [
        {
          "output_type": "execute_result",
          "data": {
            "text/plain": [
              "True     4563\n",
              "False    1586\n",
              "Name: correct, dtype: int64"
            ]
          },
          "metadata": {
            "tags": []
          },
          "execution_count": 58
        }
      ]
    },
    {
      "cell_type": "code",
      "metadata": {
        "id": "rIkzCCCEBCgz",
        "colab_type": "code",
        "colab": {
          "base_uri": "https://localhost:8080/",
          "height": 118
        },
        "outputId": "01461b4a-8aa6-4e5f-c90c-709ac89ae36b"
      },
      "source": [
        "\n",
        "# Create a column for the position we should take\n",
        "test['position'] = test['prediction_next']"
      ],
      "execution_count": null,
      "outputs": [
        {
          "output_type": "stream",
          "text": [
            "/usr/local/lib/python3.6/dist-packages/ipykernel_launcher.py:3: SettingWithCopyWarning: \n",
            "A value is trying to be set on a copy of a slice from a DataFrame.\n",
            "Try using .loc[row_indexer,col_indexer] = value instead\n",
            "\n",
            "See the caveats in the documentation: https://pandas.pydata.org/pandas-docs/stable/user_guide/indexing.html#returning-a-view-versus-a-copy\n",
            "  This is separate from the ipykernel package so we can avoid doing imports until\n"
          ],
          "name": "stderr"
        }
      ]
    },
    {
      "cell_type": "code",
      "metadata": {
        "id": "MxZi09dxBHaE",
        "colab_type": "code",
        "colab": {
          "base_uri": "https://localhost:8080/",
          "height": 596
        },
        "outputId": "b3e1bdc1-9204-4a02-bfd8-e3000bbce19c"
      },
      "source": [
        "test[['close', 'prediction']].plot(figsize=(16, 10))"
      ],
      "execution_count": null,
      "outputs": [
        {
          "output_type": "execute_result",
          "data": {
            "text/plain": [
              "<matplotlib.axes._subplots.AxesSubplot at 0x7f44fae3dcc0>"
            ]
          },
          "metadata": {
            "tags": []
          },
          "execution_count": 60
        },
        {
          "output_type": "display_data",
          "data": {
            "image/png": "[encoded data removed]",
            "text/plain": [
              "<Figure size 1152x720 with 1 Axes>"
            ]
          },
          "metadata": {
            "tags": [],
            "needs_background": "light"
          }
        }
      ]
    },
    {
      "cell_type": "code",
      "metadata": {
        "id": "mccpHV6hBMMR",
        "colab_type": "code",
        "colab": {
          "base_uri": "https://localhost:8080/",
          "height": 373
        },
        "outputId": "c7ca8162-7717-4f2f-cdf5-ef8af2a1e6a0"
      },
      "source": [
        "!pip install yfinance --upgrade --no-cache-dir"
      ],
      "execution_count": null,
      "outputs": [
        {
          "output_type": "stream",
          "text": [
            "Collecting yfinance\n",
            "  Downloading https://files.pythonhosted.org/packages/c2/31/8b374a12b90def92a4e27d0fc595fc43635f395984e36a075244d98bd265/yfinance-0.1.54.tar.gz\n",
            "Requirement already satisfied, skipping upgrade: pandas>=0.24 in /usr/local/lib/python3.6/dist-packages (from yfinance) (1.0.5)\n",
            "Requirement already satisfied, skipping upgrade: numpy>=1.15 in /usr/local/lib/python3.6/dist-packages (from yfinance) (1.18.5)\n",
            "Requirement already satisfied, skipping upgrade: requests>=2.20 in /usr/local/lib/python3.6/dist-packages (from yfinance) (2.23.0)\n",
            "Requirement already satisfied, skipping upgrade: multitasking>=0.0.7 in /usr/local/lib/python3.6/dist-packages (from yfinance) (0.0.9)\n",
            "Requirement already satisfied, skipping upgrade: pytz>=2017.2 in /usr/local/lib/python3.6/dist-packages (from pandas>=0.24->yfinance) (2018.9)\n",
            "Requirement already satisfied, skipping upgrade: python-dateutil>=2.6.1 in /usr/local/lib/python3.6/dist-packages (from pandas>=0.24->yfinance) (2.8.1)\n",
            "Requirement already satisfied, skipping upgrade: certifi>=2017.4.17 in /usr/local/lib/python3.6/dist-packages (from requests>=2.20->yfinance) (2020.6.20)\n",
            "Requirement already satisfied, skipping upgrade: chardet<4,>=3.0.2 in /usr/local/lib/python3.6/dist-packages (from requests>=2.20->yfinance) (3.0.4)\n",
            "Requirement already satisfied, skipping upgrade: idna<3,>=2.5 in /usr/local/lib/python3.6/dist-packages (from requests>=2.20->yfinance) (2.10)\n",
            "Requirement already satisfied, skipping upgrade: urllib3!=1.25.0,!=1.25.1,<1.26,>=1.21.1 in /usr/local/lib/python3.6/dist-packages (from requests>=2.20->yfinance) (1.24.3)\n",
            "Requirement already satisfied, skipping upgrade: six>=1.5 in /usr/local/lib/python3.6/dist-packages (from python-dateutil>=2.6.1->pandas>=0.24->yfinance) (1.15.0)\n",
            "Building wheels for collected packages: yfinance\n",
            "  Building wheel for yfinance (setup.py) ... \u001b[?25l\u001b[?25hdone\n",
            "  Created wheel for yfinance: filename=yfinance-0.1.54-py2.py3-none-any.whl size=22409 sha256=c015e8e2babda671e8dc4ee355d3d69c306de6d1daafdac1d9ae716077a93453\n",
            "  Stored in directory: /tmp/pip-ephem-wheel-cache-1cbaxa4u/wheels/f9/e3/5b/ec24dd2984b12d61e0abf26289746c2436a0e7844f26f2515c\n",
            "Successfully built yfinance\n",
            "Installing collected packages: yfinance\n",
            "Successfully installed yfinance-0.1.54\n"
          ],
          "name": "stdout"
        }
      ]
    },
    {
      "cell_type": "code",
      "metadata": {
        "id": "AePmPKByBYVn",
        "colab_type": "code",
        "colab": {
          "base_uri": "https://localhost:8080/",
          "height": 295
        },
        "outputId": "e1fe19d5-8824-43a9-b9fd-09fd42d4991f"
      },
      "source": [
        "from pandas_datareader import data as pdr\n",
        "import fix_yahoo_finance as yf\n",
        "yf.pdr_override()\n",
        "df_full = yf.download(\"GOOG\", start=\"2017-01-01\", end=\"2019-11-30\")\n",
        "\n",
        "df_full.head()"
      ],
      "execution_count": null,
      "outputs": [
        {
          "output_type": "stream",
          "text": [
            "/usr/local/lib/python3.6/dist-packages/pandas_datareader/compat/__init__.py:7: FutureWarning: pandas.util.testing is deprecated. Use the functions in the public API at pandas.testing instead.\n",
            "  from pandas.util.testing import assert_frame_equal\n"
          ],
          "name": "stderr"
        },
        {
          "output_type": "stream",
          "text": [
            "[*********************100%***********************]  1 of 1 downloaded\n"
          ],
          "name": "stdout"
        },
        {
          "output_type": "execute_result",
          "data": {
            "text/html": [
              "<div>\n",
              "<style scoped>\n",
              "    .dataframe tbody tr th:only-of-type {\n",
              "        vertical-align: middle;\n",
              "    }\n",
              "\n",
              "    .dataframe tbody tr th {\n",
              "        vertical-align: top;\n",
              "    }\n",
              "\n",
              "    .dataframe thead th {\n",
              "        text-align: right;\n",
              "    }\n",
              "</style>\n",
              "<table border=\"1\" class=\"dataframe\">\n",
              "  <thead>\n",
              "    <tr style=\"text-align: right;\">\n",
              "      <th></th>\n",
              "      <th>Open</th>\n",
              "      <th>High</th>\n",
              "      <th>Low</th>\n",
              "      <th>Close</th>\n",
              "      <th>Adj Close</th>\n",
              "      <th>Volume</th>\n",
              "    </tr>\n",
              "    <tr>\n",
              "      <th>Date</th>\n",
              "      <th></th>\n",
              "      <th></th>\n",
              "      <th></th>\n",
              "      <th></th>\n",
              "      <th></th>\n",
              "      <th></th>\n",
              "    </tr>\n",
              "  </thead>\n",
              "  <tbody>\n",
              "    <tr>\n",
              "      <th>2017-01-03</th>\n",
              "      <td>778.809998</td>\n",
              "      <td>789.630005</td>\n",
              "      <td>775.799988</td>\n",
              "      <td>786.140015</td>\n",
              "      <td>786.140015</td>\n",
              "      <td>1657300</td>\n",
              "    </tr>\n",
              "    <tr>\n",
              "      <th>2017-01-04</th>\n",
              "      <td>788.359985</td>\n",
              "      <td>791.340027</td>\n",
              "      <td>783.159973</td>\n",
              "      <td>786.900024</td>\n",
              "      <td>786.900024</td>\n",
              "      <td>1073000</td>\n",
              "    </tr>\n",
              "    <tr>\n",
              "      <th>2017-01-05</th>\n",
              "      <td>786.080017</td>\n",
              "      <td>794.479980</td>\n",
              "      <td>785.020020</td>\n",
              "      <td>794.020020</td>\n",
              "      <td>794.020020</td>\n",
              "      <td>1335200</td>\n",
              "    </tr>\n",
              "    <tr>\n",
              "      <th>2017-01-06</th>\n",
              "      <td>795.260010</td>\n",
              "      <td>807.900024</td>\n",
              "      <td>792.203979</td>\n",
              "      <td>806.150024</td>\n",
              "      <td>806.150024</td>\n",
              "      <td>1640200</td>\n",
              "    </tr>\n",
              "    <tr>\n",
              "      <th>2017-01-09</th>\n",
              "      <td>806.400024</td>\n",
              "      <td>809.966003</td>\n",
              "      <td>802.830017</td>\n",
              "      <td>806.650024</td>\n",
              "      <td>806.650024</td>\n",
              "      <td>1274600</td>\n",
              "    </tr>\n",
              "  </tbody>\n",
              "</table>\n",
              "</div>"
            ],
            "text/plain": [
              "                  Open        High         Low       Close   Adj Close   Volume\n",
              "Date                                                                           \n",
              "2017-01-03  778.809998  789.630005  775.799988  786.140015  786.140015  1657300\n",
              "2017-01-04  788.359985  791.340027  783.159973  786.900024  786.900024  1073000\n",
              "2017-01-05  786.080017  794.479980  785.020020  794.020020  794.020020  1335200\n",
              "2017-01-06  795.260010  807.900024  792.203979  806.150024  806.150024  1640200\n",
              "2017-01-09  806.400024  809.966003  802.830017  806.650024  806.650024  1274600"
            ]
          },
          "metadata": {
            "tags": []
          },
          "execution_count": 1
        }
      ]
    },
    {
      "cell_type": "code",
      "metadata": {
        "id": "mYRASJCFEOPE",
        "colab_type": "code",
        "colab": {}
      },
      "source": [
        "from collections import deque\n",
        "import random\n",
        "\n",
        "df= data_ask.copy()\n",
        "name = 'Q-learning agent'\n",
        "\n",
        "class Agent:\n",
        "    def __init__(self, state_size, window_size, trend, skip, batch_size):\n",
        "        self.state_size = state_size\n",
        "        self.window_size = window_size\n",
        "        self.half_window = window_size // 2\n",
        "        self.trend = trend\n",
        "        self.skip = skip\n",
        "        self.action_size = 3\n",
        "        self.batch_size = batch_size\n",
        "        self.memory = deque(maxlen = 1000)\n",
        "        self.inventory = []\n",
        "\n",
        "        self.gamma = 0.95\n",
        "        self.epsilon = 0.5\n",
        "        self.epsilon_min = 0.01\n",
        "        self.epsilon_decay = 0.999\n",
        "\n",
        "        tf.reset_default_graph()\n",
        "        self.sess = tf.InteractiveSession()\n",
        "        self.X = tf.placeholder(tf.float32, [None, self.state_size])\n",
        "        self.Y = tf.placeholder(tf.float32, [None, self.action_size])\n",
        "        feed = tf.layers.dense(self.X, 256, activation = tf.nn.relu)\n",
        "        self.logits = tf.layers.dense(feed, self.action_size)\n",
        "        self.cost = tf.reduce_mean(tf.square(self.Y - self.logits))\n",
        "        self.optimizer = tf.train.GradientDescentOptimizer(1e-5).minimize(\n",
        "            self.cost\n",
        "        )\n",
        "        self.sess.run(tf.global_variables_initializer())\n",
        "\n",
        "    def act(self, state):\n",
        "        if random.random() <= self.epsilon:\n",
        "            return random.randrange(self.action_size)\n",
        "        return np.argmax(\n",
        "            self.sess.run(self.logits, feed_dict = {self.X: state})[0]\n",
        "        )\n",
        "    \n",
        "    def get_state(self, t):\n",
        "        window_size = self.window_size + 1\n",
        "        d = t - window_size + 1\n",
        "        block = self.trend[d : t + 1] if d >= 0 else -d * [self.trend[0]] + self.trend[0 : t + 1]\n",
        "        res = []\n",
        "        for i in range(window_size - 1):\n",
        "            res.append(block[i + 1] - block[i])\n",
        "        return np.array([res])\n",
        "\n",
        "    def replay(self, batch_size):\n",
        "        mini_batch = []\n",
        "        l = len(self.memory)\n",
        "        for i in range(l - batch_size, l):\n",
        "            mini_batch.append(self.memory[i])\n",
        "        replay_size = len(mini_batch)\n",
        "        X = np.empty((replay_size, self.state_size))\n",
        "        Y = np.empty((replay_size, self.action_size))\n",
        "        states = np.array([a[0][0] for a in mini_batch])\n",
        "        new_states = np.array([a[3][0] for a in mini_batch])\n",
        "        Q = self.sess.run(self.logits, feed_dict = {self.X: states})\n",
        "        Q_new = self.sess.run(self.logits, feed_dict = {self.X: new_states})\n",
        "        for i in range(len(mini_batch)):\n",
        "            state, action, reward, next_state, done = mini_batch[i]\n",
        "            target = Q[i]\n",
        "            target[action] = reward\n",
        "            if not done:\n",
        "                target[action] += self.gamma * np.amax(Q_new[i])\n",
        "            X[i] = state\n",
        "            Y[i] = target\n",
        "        cost, _ = self.sess.run(\n",
        "            [self.cost, self.optimizer], feed_dict = {self.X: X, self.Y: Y}\n",
        "        )\n",
        "        if self.epsilon > self.epsilon_min:\n",
        "            self.epsilon *= self.epsilon_decay\n",
        "        return cost\n",
        "    \n",
        "    def buy(self, initial_money):\n",
        "        starting_money = initial_money\n",
        "        states_sell = []\n",
        "        states_buy = []\n",
        "        inventory = []\n",
        "        state = self.get_state(0)\n",
        "        for t in range(0, len(self.trend) - 1, self.skip):\n",
        "            action = self.act(state)\n",
        "            next_state = self.get_state(t + 1)\n",
        "            \n",
        "            if action == 1 and initial_money >= self.trend[t] and t < (len(self.trend) - self.half_window):\n",
        "                inventory.append(self.trend[t])\n",
        "                initial_money -= self.trend[t]\n",
        "                states_buy.append(t)\n",
        "                print('day %d: buy 1 unit at price %f, total balance %f'% (t, self.trend[t], initial_money))\n",
        "                \n",
        "                \n",
        "            elif action == 2 and len(inventory):\n",
        "                bought_price = inventory.pop(0)\n",
        "                initial_money += self.trend[t]\n",
        "                states_sell.append(t)\n",
        "                try:\n",
        "                    invest = ((close[t] - bought_price) / bought_price) * 100\n",
        "                except:\n",
        "                    invest = 0\n",
        "                print(\n",
        "                    'day %d, sell 1 unit at price %f, investment %f %%, total balance %f,'\n",
        "                    % (t, close[t], invest, initial_money)\n",
        "                )\n",
        "            \n",
        "            state = next_state\n",
        "        invest = ((initial_money - starting_money) / starting_money) * 100\n",
        "        total_gains = initial_money - starting_money\n",
        "        return states_buy, states_sell, total_gains, invest\n",
        "        \n",
        "    def train(self, iterations, checkpoint, initial_money):\n",
        "        for i in range(iterations):\n",
        "            total_profit = 0\n",
        "            inventory = []\n",
        "            state = self.get_state(0)\n",
        "            starting_money = initial_money\n",
        "            for t in range(0, len(self.trend) - 1, self.skip):\n",
        "                action = self.act(state)\n",
        "                next_state = self.get_state(t + 1)\n",
        "                \n",
        "                if action == 1 and starting_money >= self.trend[t] and t < (len(self.trend) - self.half_window):\n",
        "                    inventory.append(self.trend[t])\n",
        "                    starting_money -= self.trend[t]\n",
        "                \n",
        "                elif action == 2 and len(inventory) > 0:\n",
        "                    bought_price = inventory.pop(0)\n",
        "                    total_profit += self.trend[t] - bought_price\n",
        "                    starting_money += self.trend[t]\n",
        "                    \n",
        "                invest = ((starting_money - initial_money) / initial_money)\n",
        "                self.memory.append((state, action, invest, \n",
        "                                    next_state, starting_money < initial_money))\n",
        "                state = next_state\n",
        "                batch_size = min(self.batch_size, len(self.memory))\n",
        "                cost = self.replay(batch_size)\n",
        "            if (i+1) % checkpoint == 0:\n",
        "                print('epoch: %d, total rewards: %f.3, cost: %f, total money: %f'%(i + 1, total_profit, cost,\n",
        "                                                                                  starting_money))"
      ],
      "execution_count": null,
      "outputs": []
    },
    {
      "cell_type": "code",
      "metadata": {
        "id": "Ci696dFDEhBJ",
        "colab_type": "code",
        "colab": {
          "base_uri": "https://localhost:8080/",
          "height": 330
        },
        "outputId": "370d7ed8-4e8a-4fd6-e616-d0a0f482e893"
      },
      "source": [
        "close = data_ask.close.values.tolist()\n",
        "initial_money = 10000\n",
        "window_size = 30\n",
        "skip = 1\n",
        "batch_size = 32\n",
        "agent = Agent(state_size = window_size, \n",
        "              window_size = window_size, \n",
        "              trend = close, \n",
        "              skip = skip, \n",
        "              batch_size = batch_size)\n",
        "agent.train(iterations = 200, checkpoint = 10, initial_money = initial_money)"
      ],
      "execution_count": null,
      "outputs": [
        {
          "output_type": "error",
          "ename": "TypeError",
          "evalue": "ignored",
          "traceback": [
            "\u001b[0;31m---------------------------------------------------------------------------\u001b[0m",
            "\u001b[0;31mTypeError\u001b[0m                                 Traceback (most recent call last)",
            "\u001b[0;32m<ipython-input-76-9964b98b7ac4>\u001b[0m in \u001b[0;36m<module>\u001b[0;34m()\u001b[0m\n\u001b[1;32m      8\u001b[0m               \u001b[0mtrend\u001b[0m \u001b[0;34m=\u001b[0m \u001b[0mclose\u001b[0m\u001b[0;34m,\u001b[0m\u001b[0;34m\u001b[0m\u001b[0;34m\u001b[0m\u001b[0m\n\u001b[1;32m      9\u001b[0m               \u001b[0mskip\u001b[0m \u001b[0;34m=\u001b[0m \u001b[0mskip\u001b[0m\u001b[0;34m,\u001b[0m\u001b[0;34m\u001b[0m\u001b[0;34m\u001b[0m\u001b[0m\n\u001b[0;32m---> 10\u001b[0;31m               batch_size = batch_size)\n\u001b[0m\u001b[1;32m     11\u001b[0m \u001b[0magent\u001b[0m\u001b[0;34m.\u001b[0m\u001b[0mtrain\u001b[0m\u001b[0;34m(\u001b[0m\u001b[0miterations\u001b[0m \u001b[0;34m=\u001b[0m \u001b[0;36m200\u001b[0m\u001b[0;34m,\u001b[0m \u001b[0mcheckpoint\u001b[0m \u001b[0;34m=\u001b[0m \u001b[0;36m10\u001b[0m\u001b[0;34m,\u001b[0m \u001b[0minitial_money\u001b[0m \u001b[0;34m=\u001b[0m \u001b[0minitial_money\u001b[0m\u001b[0;34m)\u001b[0m\u001b[0;34m\u001b[0m\u001b[0;34m\u001b[0m\u001b[0m\n",
            "\u001b[0;32m<ipython-input-75-1a39feb467d2>\u001b[0m in \u001b[0;36m__init__\u001b[0;34m(self, state_size, window_size, trend, skip, batch_size)\u001b[0m\n\u001b[1;32m     24\u001b[0m         \u001b[0;31m#tf.reset_default_graph()\u001b[0m\u001b[0;34m\u001b[0m\u001b[0;34m\u001b[0m\u001b[0;34m\u001b[0m\u001b[0m\n\u001b[1;32m     25\u001b[0m         \u001b[0;31m#self.sess = tf.InteractiveSession()\u001b[0m\u001b[0;34m\u001b[0m\u001b[0;34m\u001b[0m\u001b[0;34m\u001b[0m\u001b[0m\n\u001b[0;32m---> 26\u001b[0;31m         \u001b[0mself\u001b[0m\u001b[0;34m.\u001b[0m\u001b[0mX\u001b[0m \u001b[0;34m=\u001b[0m \u001b[0mtf\u001b[0m\u001b[0;34m(\u001b[0m\u001b[0mtf\u001b[0m\u001b[0;34m.\u001b[0m\u001b[0mfloat32\u001b[0m\u001b[0;34m,\u001b[0m \u001b[0;34m[\u001b[0m\u001b[0;32mNone\u001b[0m\u001b[0;34m,\u001b[0m \u001b[0mself\u001b[0m\u001b[0;34m.\u001b[0m\u001b[0mstate_size\u001b[0m\u001b[0;34m]\u001b[0m\u001b[0;34m)\u001b[0m\u001b[0;34m\u001b[0m\u001b[0;34m\u001b[0m\u001b[0m\n\u001b[0m\u001b[1;32m     27\u001b[0m         \u001b[0mself\u001b[0m\u001b[0;34m.\u001b[0m\u001b[0mY\u001b[0m \u001b[0;34m=\u001b[0m \u001b[0mtf\u001b[0m\u001b[0;34m(\u001b[0m\u001b[0mtf\u001b[0m\u001b[0;34m.\u001b[0m\u001b[0mfloat32\u001b[0m\u001b[0;34m,\u001b[0m \u001b[0;34m[\u001b[0m\u001b[0;32mNone\u001b[0m\u001b[0;34m,\u001b[0m \u001b[0mself\u001b[0m\u001b[0;34m.\u001b[0m\u001b[0maction_size\u001b[0m\u001b[0;34m]\u001b[0m\u001b[0;34m)\u001b[0m\u001b[0;34m\u001b[0m\u001b[0;34m\u001b[0m\u001b[0m\n\u001b[1;32m     28\u001b[0m         \u001b[0mfeed\u001b[0m \u001b[0;34m=\u001b[0m \u001b[0mtf\u001b[0m\u001b[0;34m.\u001b[0m\u001b[0mlayers\u001b[0m\u001b[0;34m.\u001b[0m\u001b[0mdense\u001b[0m\u001b[0;34m(\u001b[0m\u001b[0mself\u001b[0m\u001b[0;34m.\u001b[0m\u001b[0mX\u001b[0m\u001b[0;34m,\u001b[0m \u001b[0;36m256\u001b[0m\u001b[0;34m,\u001b[0m \u001b[0mactivation\u001b[0m \u001b[0;34m=\u001b[0m \u001b[0mtf\u001b[0m\u001b[0;34m.\u001b[0m\u001b[0mnn\u001b[0m\u001b[0;34m.\u001b[0m\u001b[0mrelu\u001b[0m\u001b[0;34m)\u001b[0m\u001b[0;34m\u001b[0m\u001b[0;34m\u001b[0m\u001b[0m\n",
            "\u001b[0;31mTypeError\u001b[0m: 'module' object is not callable"
          ]
        }
      ]
    }
  ]
}